{
 "cells": [
  {
   "cell_type": "code",
   "execution_count": 17,
   "id": "b57d620a",
   "metadata": {},
   "outputs": [
    {
     "name": "stdout",
     "output_type": "stream",
     "text": [
      "10\n",
      "11\n",
      "12\n",
      "13\n",
      "14\n",
      "15\n",
      "16\n",
      "17\n",
      "18\n",
      "19\n",
      "20\n",
      "21\n",
      "22\n",
      "23\n",
      "24\n",
      "25\n",
      "26\n",
      "27\n",
      "28\n",
      "29\n"
     ]
    }
   ],
   "source": [
    "for i in range(10,30):\n",
    "    print(i)"
   ]
  },
  {
   "cell_type": "code",
   "execution_count": 18,
   "id": "3adfc050",
   "metadata": {},
   "outputs": [
    {
     "name": "stdout",
     "output_type": "stream",
     "text": [
      "10\n",
      "13\n",
      "16\n",
      "19\n",
      "22\n",
      "25\n",
      "28\n"
     ]
    }
   ],
   "source": [
    "for i in range(10, 30, 3):\n",
    "    print(i)"
   ]
  },
  {
   "cell_type": "code",
   "execution_count": 19,
   "id": "001e2ee2",
   "metadata": {},
   "outputs": [
    {
     "name": "stdout",
     "output_type": "stream",
     "text": [
      "10\n",
      "15\n",
      "20\n",
      "25\n"
     ]
    }
   ],
   "source": [
    "for i in range(10,30):\n",
    "    if i%5==0:\n",
    "        print(i)"
   ]
  },
  {
   "cell_type": "code",
   "execution_count": 27,
   "id": "0d02d003",
   "metadata": {},
   "outputs": [
    {
     "name": "stdout",
     "output_type": "stream",
     "text": [
      "*\n",
      "***\n",
      "*****\n"
     ]
    }
   ],
   "source": [
    "for i in range(1, 6, 2):\n",
    "    print(i*\"*\")"
   ]
  },
  {
   "cell_type": "code",
   "execution_count": 30,
   "id": "ebbc16f2",
   "metadata": {},
   "outputs": [
    {
     "name": "stdout",
     "output_type": "stream",
     "text": [
      "a: 5\n",
      "Factorial is:  120\n",
      "The answer is correct\n"
     ]
    }
   ],
   "source": [
    "import math\n",
    "a = int(input(\"a: \"))\n",
    "result = 1\n",
    "for a in range(2, a+1):\n",
    "    result = result*a\n",
    "if result == math.factorial(a):\n",
    "    print(\"Factorial is: \", result)\n",
    "    print(\"The answer is correct\")\n",
    "else:\n",
    "    print(\"Your answer is not correct\")"
   ]
  },
  {
   "cell_type": "code",
   "execution_count": 34,
   "id": "9da56a70",
   "metadata": {},
   "outputs": [
    {
     "name": "stdout",
     "output_type": "stream",
     "text": [
      "12\n",
      "6\n",
      "12\n",
      "93\n",
      "783\n",
      "330\n",
      "43\n",
      "343\n",
      "93\n",
      "783\n"
     ]
    }
   ],
   "source": [
    "x = [12, 43, 4, 1, 6, 343, 10, 34, 12, 93, 783, 330, 896, 1, 55]\n",
    "\n",
    "for item in x:\n",
    "    if item%3==0:\n",
    "        print(item)\n",
    "\n",
    "output_list =[]\n",
    "for item in x:\n",
    "    item = str(item)\n",
    "    last_digit = item[-1]\n",
    "    if last_digit == '3':\n",
    "        output_list.append(item)\n",
    "        print(item)"
   ]
  },
  {
   "cell_type": "code",
   "execution_count": 35,
   "id": "04420c2c",
   "metadata": {},
   "outputs": [
    {
     "data": {
      "text/plain": [
       "1"
      ]
     },
     "execution_count": 35,
     "metadata": {},
     "output_type": "execute_result"
    }
   ],
   "source": [
    "min(x)"
   ]
  },
  {
   "cell_type": "code",
   "execution_count": 36,
   "id": "8739d011",
   "metadata": {},
   "outputs": [
    {
     "data": {
      "text/plain": [
       "896"
      ]
     },
     "execution_count": 36,
     "metadata": {},
     "output_type": "execute_result"
    }
   ],
   "source": [
    "max(x)"
   ]
  },
  {
   "cell_type": "code",
   "execution_count": 37,
   "id": "afb85742",
   "metadata": {},
   "outputs": [
    {
     "name": "stdout",
     "output_type": "stream",
     "text": [
      "conversation\n",
      "we're\n",
      "plate\n",
      "sour\n",
      "jukebox\n",
      "taxi\n",
      "fast\n",
      "bag\n",
      "man\n",
      "going\n",
      "don't\n",
      "one\n",
      "mind\n",
      "backseat\n",
      "friends\n",
      "know\n"
     ]
    }
   ],
   "source": [
    "word_freq = {'love': 25, 'conversation': 1, 'every': 6, \"we're\": 1, 'plate': 1, 'sour': 1, 'jukebox': 1, 'now': 11, 'taxi': 1, 'fast': 1, 'bag': 1, 'man': 1, 'push': 3, 'baby': 14, 'going': 1, 'you': 16, \"don't\": 2, 'one': 1, 'mind': 2, 'backseat': 1, 'friends': 1, 'then': 3, 'know': 2}\n",
    "for word, freq in word_freq.items():\n",
    "    if freq<3:\n",
    "        print(word)"
   ]
  },
  {
   "cell_type": "code",
   "execution_count": 38,
   "id": "31045547",
   "metadata": {},
   "outputs": [
    {
     "name": "stdout",
     "output_type": "stream",
     "text": [
      "love\n"
     ]
    }
   ],
   "source": [
    "frequencies = list(word_freq.values())\n",
    "max_freq = max(frequencies)\n",
    "for word, freq in word_freq.items():\n",
    "    if freq==max_freq:\n",
    "        print(word)"
   ]
  },
  {
   "cell_type": "code",
   "execution_count": null,
   "id": "a6a8f2d4",
   "metadata": {},
   "outputs": [],
   "source": []
  }
 ],
 "metadata": {
  "kernelspec": {
   "display_name": "Python 3",
   "language": "python",
   "name": "python3"
  },
  "language_info": {
   "codemirror_mode": {
    "name": "ipython",
    "version": 3
   },
   "file_extension": ".py",
   "mimetype": "text/x-python",
   "name": "python",
   "nbconvert_exporter": "python",
   "pygments_lexer": "ipython3",
   "version": "3.8.8"
  }
 },
 "nbformat": 4,
 "nbformat_minor": 5
}
